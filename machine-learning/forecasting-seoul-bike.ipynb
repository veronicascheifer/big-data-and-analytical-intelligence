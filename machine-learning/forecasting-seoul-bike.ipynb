{
 "cells": [
  {
   "cell_type": "markdown",
   "metadata": {},
   "source": [
    "This notebook has a solution using Time Series with the Prophet model from Facebook, to predict the number of bicycles that will be rented in the future from the Seoul Bike Data dataset.\n",
    "\n",
    "The dataset contains the amount of bicycles rented in the city of Seoul (South Korea) between 2017 and 2018.\n",
    "\n",
    "This forecasting model will answer the second business question from the dataset of Summative Activities 1 and 2:\n",
    "- Predict how many bikes would be rented in the future (i.e. for the entire month of January 2019 – which information does not exist in this dataset).\n",
    "\n",
    "Therefore, the forecast will show 31 days ahead. That is, the month of January 2019, but it will also show forecast of the data that already exists, and then we can analiyze it.\n",
    "\n",
    "In addition, an analysis of model metrics."
   ]
  },
  {
   "cell_type": "code",
   "execution_count": null,
   "metadata": {},
   "outputs": [
    {
     "name": "stdout",
     "output_type": "stream",
     "text": [
      "Collecting package metadata (current_repodata.json): done\n",
      "Solving environment: done\n",
      "\n",
      "# All requested packages already installed.\n",
      "\n",
      "Requirement already satisfied: plotly in ./opt/anaconda3/lib/python3.8/site-packages (5.4.0)\n",
      "Requirement already satisfied: tenacity>=6.2.0 in ./opt/anaconda3/lib/python3.8/site-packages (from plotly) (8.0.1)\n",
      "Requirement already satisfied: six in ./opt/anaconda3/lib/python3.8/site-packages (from plotly) (1.16.0)\n",
      "Requirement already satisfied: seaborn in ./opt/anaconda3/lib/python3.8/site-packages (0.11.2)\n",
      "Requirement already satisfied: pandas>=0.23 in ./opt/anaconda3/lib/python3.8/site-packages (from seaborn) (1.3.3)\n",
      "Requirement already satisfied: scipy>=1.0 in ./opt/anaconda3/lib/python3.8/site-packages (from seaborn) (1.7.1)\n",
      "Requirement already satisfied: numpy>=1.15 in ./opt/anaconda3/lib/python3.8/site-packages (from seaborn) (1.21.2)\n",
      "Requirement already satisfied: matplotlib>=2.2 in ./opt/anaconda3/lib/python3.8/site-packages (from seaborn) (3.4.3)\n",
      "Requirement already satisfied: python-dateutil>=2.7 in ./opt/anaconda3/lib/python3.8/site-packages (from matplotlib>=2.2->seaborn) (2.8.2)\n",
      "Requirement already satisfied: cycler>=0.10 in ./opt/anaconda3/lib/python3.8/site-packages (from matplotlib>=2.2->seaborn) (0.10.0)\n",
      "Requirement already satisfied: pillow>=6.2.0 in ./opt/anaconda3/lib/python3.8/site-packages (from matplotlib>=2.2->seaborn) (8.4.0)\n",
      "Requirement already satisfied: kiwisolver>=1.0.1 in ./opt/anaconda3/lib/python3.8/site-packages (from matplotlib>=2.2->seaborn) (1.3.1)\n",
      "Requirement already satisfied: pyparsing>=2.2.1 in ./opt/anaconda3/lib/python3.8/site-packages (from matplotlib>=2.2->seaborn) (2.4.7)\n",
      "Requirement already satisfied: six in ./opt/anaconda3/lib/python3.8/site-packages (from cycler>=0.10->matplotlib>=2.2->seaborn) (1.16.0)\n",
      "Requirement already satisfied: pytz>=2017.3 in ./opt/anaconda3/lib/python3.8/site-packages (from pandas>=0.23->seaborn) (2021.3)\n"
     ]
    }
   ],
   "source": [
    "#Installing, updating and importing useful libraries for the model\n",
    "!conda install -c conda-forge prophet -y\n",
    "!pip install --upgrade plotly\n",
    "!pip install seaborn\n",
    "import pandas as pd \n",
    "import seaborn as sns\n",
    "import numpy as np\n",
    "from scipy import stats\n",
    "from prophet import Prophet\n",
    "from sklearn.model_selection import train_test_split\n",
    "from sklearn.pipeline import Pipeline\n",
    "from sklearn.metrics import mean_absolute_error"
   ]
  },
  {
   "cell_type": "markdown",
   "metadata": {},
   "source": [
    "## Forecasting\n",
    "\n"
   ]
  },
  {
   "cell_type": "markdown",
   "metadata": {},
   "source": [
    "This is the step of loading and splitting the data. The step of splitting the data into Time Series separates the most recent entries and tests with the old ones. Therefore, the data needs to be sorted by date and for that the sort_values ​​function is used."
   ]
  },
  {
   "cell_type": "code",
   "execution_count": 79,
   "metadata": {},
   "outputs": [],
   "source": [
    "#Load the xlsx file\n",
    "df = pd.read_excel('/Users/veronicascheifer/Desktop/PUC/Machine_Learning/Activity_2/seoul_bike_data.xlsx')"
   ]
  },
  {
   "cell_type": "code",
   "execution_count": 80,
   "metadata": {},
   "outputs": [],
   "source": [
    "#Split Data\n",
    "\n",
    "df_train = df.iloc[:-124]\n",
    "df_test = df.iloc[-124:]\n",
    "df_train = df_train.sort_values(by='DateTime')\n",
    "df_test = df_test.sort_values(by='DateTime')"
   ]
  },
  {
   "cell_type": "markdown",
   "metadata": {},
   "source": [
    "Essa é a preparação dos dados. Aqui criamos uma função 'preparação' que executará todas as transformações necessárias na base de dados e retornará um dataframe com os dados limpos."
   ]
  },
  {
   "cell_type": "code",
   "execution_count": 81,
   "metadata": {},
   "outputs": [],
   "source": [
    "#Data Preparation\n",
    "\n",
    "def dataPreparation(df):\n",
    "    \n",
    "    #Delete blank data, but when necessary average blank data to improve accuracy in the model\n",
    "    df  = df.dropna()\n",
    "\n",
    "    #Convert column 'DateTime' to datetime \n",
    "    df['DateTime'] = pd.to_datetime(df['DateTime'])\n",
    "\n",
    "    #Separate and create a column to date\n",
    "    df['Date'] = df['DateTime'].dt.strftime('%Y-%m-%d')\n",
    "\n",
    "    #Separate and create a column to hour\n",
    "    df['Hora'] = df['DateTime'].dt.strftime('%H:%M:%S')\n",
    "\n",
    "    #Delete column hour and datetime\n",
    "    df = df.drop(columns=['Hora','DateTime'])\n",
    "\n",
    "    #Order columns\n",
    "    df = df[['Date', 'Rented Bike Count', 'Day', 'Weekday', 'Hour', 'Temperature(°C)', 'Humidity(%)', 'Wind speed (m/s)', 'Visibility (10m)', 'Dew point temperature(°C)', 'Solar Radiation (MJ/m2)', 'Rainfall(mm)', 'Snowfall (cm)']]\n",
    "\n",
    "    #Prophet must have columns with the date name of \"ds\" and the value of \"y\"\n",
    "    df = df.rename(columns={'Date': 'ds', 'Rented Bike Count': 'y'})\n",
    "\n",
    "    df = df.drop(columns=['Day','Weekday', 'Hour', 'Temperature(°C)', 'Humidity(%)', 'Wind speed (m/s)', 'Dew point temperature(°C)', 'Solar Radiation (MJ/m2)', 'Rainfall(mm)', 'Snowfall (cm)', 'Visibility (10m)'])\n",
    "\n",
    "    return df"
   ]
  },
  {
   "cell_type": "code",
   "execution_count": 82,
   "metadata": {},
   "outputs": [],
   "source": [
    "df_train = dataPreparation(df_train)\n",
    "df_test = dataPreparation(df_test)"
   ]
  },
  {
   "cell_type": "markdown",
   "metadata": {},
   "source": [
    "Now we will do one more transformation, which is the grouping of bicycle values ​​per day for the two datasets (training and testing)."
   ]
  },
  {
   "cell_type": "code",
   "execution_count": 83,
   "metadata": {},
   "outputs": [
    {
     "data": {
      "text/html": [
       "<div>\n",
       "<style scoped>\n",
       "    .dataframe tbody tr th:only-of-type {\n",
       "        vertical-align: middle;\n",
       "    }\n",
       "\n",
       "    .dataframe tbody tr th {\n",
       "        vertical-align: top;\n",
       "    }\n",
       "\n",
       "    .dataframe thead th {\n",
       "        text-align: right;\n",
       "    }\n",
       "</style>\n",
       "<table border=\"1\" class=\"dataframe\">\n",
       "  <thead>\n",
       "    <tr style=\"text-align: right;\">\n",
       "      <th></th>\n",
       "      <th>ds</th>\n",
       "      <th>y</th>\n",
       "    </tr>\n",
       "  </thead>\n",
       "  <tbody>\n",
       "    <tr>\n",
       "      <th>0</th>\n",
       "      <td>2017-01-12</td>\n",
       "      <td>9539</td>\n",
       "    </tr>\n",
       "    <tr>\n",
       "      <th>1</th>\n",
       "      <td>2017-02-12</td>\n",
       "      <td>8523</td>\n",
       "    </tr>\n",
       "    <tr>\n",
       "      <th>2</th>\n",
       "      <td>2017-03-12</td>\n",
       "      <td>7222</td>\n",
       "    </tr>\n",
       "    <tr>\n",
       "      <th>3</th>\n",
       "      <td>2017-04-12</td>\n",
       "      <td>8729</td>\n",
       "    </tr>\n",
       "    <tr>\n",
       "      <th>4</th>\n",
       "      <td>2017-05-12</td>\n",
       "      <td>8307</td>\n",
       "    </tr>\n",
       "    <tr>\n",
       "      <th>...</th>\n",
       "      <td>...</td>\n",
       "      <td>...</td>\n",
       "    </tr>\n",
       "    <tr>\n",
       "      <th>355</th>\n",
       "      <td>2018-12-22</td>\n",
       "      <td>7184</td>\n",
       "    </tr>\n",
       "    <tr>\n",
       "      <th>356</th>\n",
       "      <td>2018-12-23</td>\n",
       "      <td>6624</td>\n",
       "    </tr>\n",
       "    <tr>\n",
       "      <th>357</th>\n",
       "      <td>2018-12-24</td>\n",
       "      <td>2014</td>\n",
       "    </tr>\n",
       "    <tr>\n",
       "      <th>358</th>\n",
       "      <td>2018-12-25</td>\n",
       "      <td>3966</td>\n",
       "    </tr>\n",
       "    <tr>\n",
       "      <th>359</th>\n",
       "      <td>2018-12-26</td>\n",
       "      <td>4764</td>\n",
       "    </tr>\n",
       "  </tbody>\n",
       "</table>\n",
       "<p>360 rows × 2 columns</p>\n",
       "</div>"
      ],
      "text/plain": [
       "             ds     y\n",
       "0    2017-01-12  9539\n",
       "1    2017-02-12  8523\n",
       "2    2017-03-12  7222\n",
       "3    2017-04-12  8729\n",
       "4    2017-05-12  8307\n",
       "..          ...   ...\n",
       "355  2018-12-22  7184\n",
       "356  2018-12-23  6624\n",
       "357  2018-12-24  2014\n",
       "358  2018-12-25  3966\n",
       "359  2018-12-26  4764\n",
       "\n",
       "[360 rows x 2 columns]"
      ]
     },
     "execution_count": 83,
     "metadata": {},
     "output_type": "execute_result"
    }
   ],
   "source": [
    "#Group by day and add the total number of bikes that have been rented per day\n",
    "df_train = df_train.groupby('ds')['y'].agg('sum')\n",
    "\n",
    "#Create an xlsx from the dataframe and then load the new file\n",
    "df_train.to_excel('/Users/veronicascheifer/Downloads/df_train.xlsx')\n",
    "df_train = pd.read_excel('/Users/veronicascheifer/Downloads/df_train.xlsx')\n",
    "\n",
    "df_train"
   ]
  },
  {
   "cell_type": "code",
   "execution_count": 84,
   "metadata": {},
   "outputs": [
    {
     "data": {
      "text/html": [
       "<div>\n",
       "<style scoped>\n",
       "    .dataframe tbody tr th:only-of-type {\n",
       "        vertical-align: middle;\n",
       "    }\n",
       "\n",
       "    .dataframe tbody tr th {\n",
       "        vertical-align: top;\n",
       "    }\n",
       "\n",
       "    .dataframe thead th {\n",
       "        text-align: right;\n",
       "    }\n",
       "</style>\n",
       "<table border=\"1\" class=\"dataframe\">\n",
       "  <thead>\n",
       "    <tr style=\"text-align: right;\">\n",
       "      <th></th>\n",
       "      <th>ds</th>\n",
       "      <th>y</th>\n",
       "    </tr>\n",
       "  </thead>\n",
       "  <tbody>\n",
       "    <tr>\n",
       "      <th>0</th>\n",
       "      <td>2018-12-26</td>\n",
       "      <td>841</td>\n",
       "    </tr>\n",
       "    <tr>\n",
       "      <th>1</th>\n",
       "      <td>2018-12-27</td>\n",
       "      <td>5351</td>\n",
       "    </tr>\n",
       "    <tr>\n",
       "      <th>2</th>\n",
       "      <td>2018-12-28</td>\n",
       "      <td>6594</td>\n",
       "    </tr>\n",
       "    <tr>\n",
       "      <th>3</th>\n",
       "      <td>2018-12-29</td>\n",
       "      <td>7663</td>\n",
       "    </tr>\n",
       "    <tr>\n",
       "      <th>4</th>\n",
       "      <td>2018-12-30</td>\n",
       "      <td>4027</td>\n",
       "    </tr>\n",
       "    <tr>\n",
       "      <th>5</th>\n",
       "      <td>2018-12-31</td>\n",
       "      <td>3423</td>\n",
       "    </tr>\n",
       "  </tbody>\n",
       "</table>\n",
       "</div>"
      ],
      "text/plain": [
       "           ds     y\n",
       "0  2018-12-26   841\n",
       "1  2018-12-27  5351\n",
       "2  2018-12-28  6594\n",
       "3  2018-12-29  7663\n",
       "4  2018-12-30  4027\n",
       "5  2018-12-31  3423"
      ]
     },
     "execution_count": 84,
     "metadata": {},
     "output_type": "execute_result"
    }
   ],
   "source": [
    "#Group by day and add the total number of bikes that have been rented per day\n",
    "df_test = df_test.groupby('ds')['y'].agg('sum')\n",
    "\n",
    "#Create an xlsx from the dataframe and then load the new file\n",
    "df_test.to_excel('/Users/veronicascheifer/Downloads/df_test.xlsx')\n",
    "df_test = pd.read_excel('/Users/veronicascheifer/Downloads/df_test.xlsx')\n",
    "\n",
    "df_test"
   ]
  },
  {
   "cell_type": "markdown",
   "metadata": {},
   "source": [
    "Now is the model training and execution step."
   ]
  },
  {
   "cell_type": "code",
   "execution_count": 85,
   "metadata": {},
   "outputs": [
    {
     "name": "stdout",
     "output_type": "stream",
     "text": [
      "Initial log joint probability = -33.7232\n"
     ]
    },
    {
     "data": {
      "text/plain": [
       "True"
      ]
     },
     "execution_count": 85,
     "metadata": {},
     "output_type": "execute_result"
    },
    {
     "name": "stdout",
     "output_type": "stream",
     "text": [
      "    Iter      log prob        ||dx||      ||grad||       alpha      alpha0  # evals  Notes \n",
      "      99       330.355   3.51909e-05       98.5437      0.4777           1      126   \n",
      "    Iter      log prob        ||dx||      ||grad||       alpha      alpha0  # evals  Notes \n",
      "     132       330.358   7.15618e-09       102.921      0.2298           1      176   \n",
      "Optimization terminated normally: \n",
      "  Convergence detected: absolute parameter change was below tolerance\n"
     ]
    }
   ],
   "source": [
    "m = Prophet()\n",
    "m = Prophet(yearly_seasonality = True, daily_seasonality=True)\n",
    "m.fit(df_train)\n",
    "m.yearly_seasonality\n",
    "m.daily_seasonality"
   ]
  },
  {
   "cell_type": "code",
   "execution_count": 86,
   "metadata": {},
   "outputs": [
    {
     "data": {
      "text/html": [
       "<div>\n",
       "<style scoped>\n",
       "    .dataframe tbody tr th:only-of-type {\n",
       "        vertical-align: middle;\n",
       "    }\n",
       "\n",
       "    .dataframe tbody tr th {\n",
       "        vertical-align: top;\n",
       "    }\n",
       "\n",
       "    .dataframe thead th {\n",
       "        text-align: right;\n",
       "    }\n",
       "</style>\n",
       "<table border=\"1\" class=\"dataframe\">\n",
       "  <thead>\n",
       "    <tr style=\"text-align: right;\">\n",
       "      <th></th>\n",
       "      <th>ds</th>\n",
       "      <th>yhat</th>\n",
       "      <th>yhat_lower</th>\n",
       "      <th>yhat_upper</th>\n",
       "    </tr>\n",
       "  </thead>\n",
       "  <tbody>\n",
       "    <tr>\n",
       "      <th>479</th>\n",
       "      <td>2019-04-25</td>\n",
       "      <td>28064.171200</td>\n",
       "      <td>17665.396127</td>\n",
       "      <td>38866.476005</td>\n",
       "    </tr>\n",
       "    <tr>\n",
       "      <th>480</th>\n",
       "      <td>2019-04-26</td>\n",
       "      <td>27499.788359</td>\n",
       "      <td>16253.591731</td>\n",
       "      <td>38689.682379</td>\n",
       "    </tr>\n",
       "    <tr>\n",
       "      <th>481</th>\n",
       "      <td>2019-04-27</td>\n",
       "      <td>27645.254376</td>\n",
       "      <td>16955.260644</td>\n",
       "      <td>39196.777607</td>\n",
       "    </tr>\n",
       "    <tr>\n",
       "      <th>482</th>\n",
       "      <td>2019-04-28</td>\n",
       "      <td>25499.815146</td>\n",
       "      <td>14832.605351</td>\n",
       "      <td>36009.025264</td>\n",
       "    </tr>\n",
       "    <tr>\n",
       "      <th>483</th>\n",
       "      <td>2019-04-29</td>\n",
       "      <td>26872.431160</td>\n",
       "      <td>15784.677459</td>\n",
       "      <td>37954.520590</td>\n",
       "    </tr>\n",
       "  </tbody>\n",
       "</table>\n",
       "</div>"
      ],
      "text/plain": [
       "            ds          yhat    yhat_lower    yhat_upper\n",
       "479 2019-04-25  28064.171200  17665.396127  38866.476005\n",
       "480 2019-04-26  27499.788359  16253.591731  38689.682379\n",
       "481 2019-04-27  27645.254376  16955.260644  39196.777607\n",
       "482 2019-04-28  25499.815146  14832.605351  36009.025264\n",
       "483 2019-04-29  26872.431160  15784.677459  37954.520590"
      ]
     },
     "execution_count": 86,
     "metadata": {},
     "output_type": "execute_result"
    }
   ],
   "source": [
    "future = m.make_future_dataframe(periods=124) #Forecast the next 90 days to compare with reality and also the rest of the days until the end of January 2019\n",
    "\n",
    "forecast = m.predict(future) #Forecast until the 31st of January\n",
    "forecast[['ds', 'yhat', 'yhat_lower', 'yhat_upper']].tail() #Show predictions (yhat) and confidence intervals: maximum (yhat_upper) and minimum (yhat_lower)"
   ]
  },
  {
   "cell_type": "code",
   "execution_count": 87,
   "metadata": {},
   "outputs": [
    {
     "data": {
      "image/png": "[encoded data removed]",
      "text/plain": [
       "<Figure size 720x432 with 1 Axes>"
      ]
     },
     "metadata": {},
     "output_type": "display_data"
    }
   ],
   "source": [
    "fig = m.plot(forecast)"
   ]
  },
  {
   "cell_type": "markdown",
   "metadata": {},
   "source": [
    "The interpretation is that ```y``` is the actual value that the Prophet time series model is unaware of and the ```yhat``` is the predicted value. There is also the maximum (```yhat_upper```) and minimum (```yhat_lower```) confidence intervals. It is always necessary to observe whether the predicted value was contained between the confidence intervals."
   ]
  },
  {
   "cell_type": "code",
   "execution_count": 88,
   "metadata": {},
   "outputs": [
    {
     "data": {
      "text/html": [
       "<div>\n",
       "<style scoped>\n",
       "    .dataframe tbody tr th:only-of-type {\n",
       "        vertical-align: middle;\n",
       "    }\n",
       "\n",
       "    .dataframe tbody tr th {\n",
       "        vertical-align: top;\n",
       "    }\n",
       "\n",
       "    .dataframe thead th {\n",
       "        text-align: right;\n",
       "    }\n",
       "</style>\n",
       "<table border=\"1\" class=\"dataframe\">\n",
       "  <thead>\n",
       "    <tr style=\"text-align: right;\">\n",
       "      <th></th>\n",
       "      <th>ds</th>\n",
       "      <th>y</th>\n",
       "      <th>yhat</th>\n",
       "      <th>yhat_lower</th>\n",
       "      <th>yhat_upper</th>\n",
       "    </tr>\n",
       "  </thead>\n",
       "  <tbody>\n",
       "    <tr>\n",
       "      <th>394</th>\n",
       "      <td>2019-01-30</td>\n",
       "      <td>NaN</td>\n",
       "      <td>14302.749842</td>\n",
       "      <td>1959.034201</td>\n",
       "      <td>25719.236253</td>\n",
       "    </tr>\n",
       "    <tr>\n",
       "      <th>395</th>\n",
       "      <td>2019-01-31</td>\n",
       "      <td>NaN</td>\n",
       "      <td>15341.627191</td>\n",
       "      <td>3422.416055</td>\n",
       "      <td>25724.475424</td>\n",
       "    </tr>\n",
       "    <tr>\n",
       "      <th>396</th>\n",
       "      <td>2019-02-01</td>\n",
       "      <td>NaN</td>\n",
       "      <td>14793.399593</td>\n",
       "      <td>4102.796901</td>\n",
       "      <td>25525.150307</td>\n",
       "    </tr>\n",
       "    <tr>\n",
       "      <th>397</th>\n",
       "      <td>2019-02-02</td>\n",
       "      <td>NaN</td>\n",
       "      <td>15017.351430</td>\n",
       "      <td>3796.609959</td>\n",
       "      <td>25610.867568</td>\n",
       "    </tr>\n",
       "    <tr>\n",
       "      <th>398</th>\n",
       "      <td>2019-02-03</td>\n",
       "      <td>NaN</td>\n",
       "      <td>13006.231573</td>\n",
       "      <td>2523.363243</td>\n",
       "      <td>23802.768000</td>\n",
       "    </tr>\n",
       "    <tr>\n",
       "      <th>...</th>\n",
       "      <td>...</td>\n",
       "      <td>...</td>\n",
       "      <td>...</td>\n",
       "      <td>...</td>\n",
       "      <td>...</td>\n",
       "    </tr>\n",
       "    <tr>\n",
       "      <th>479</th>\n",
       "      <td>2019-04-25</td>\n",
       "      <td>NaN</td>\n",
       "      <td>28064.171200</td>\n",
       "      <td>17665.396127</td>\n",
       "      <td>38866.476005</td>\n",
       "    </tr>\n",
       "    <tr>\n",
       "      <th>480</th>\n",
       "      <td>2019-04-26</td>\n",
       "      <td>NaN</td>\n",
       "      <td>27499.788359</td>\n",
       "      <td>16253.591731</td>\n",
       "      <td>38689.682379</td>\n",
       "    </tr>\n",
       "    <tr>\n",
       "      <th>481</th>\n",
       "      <td>2019-04-27</td>\n",
       "      <td>NaN</td>\n",
       "      <td>27645.254376</td>\n",
       "      <td>16955.260644</td>\n",
       "      <td>39196.777607</td>\n",
       "    </tr>\n",
       "    <tr>\n",
       "      <th>482</th>\n",
       "      <td>2019-04-28</td>\n",
       "      <td>NaN</td>\n",
       "      <td>25499.815146</td>\n",
       "      <td>14832.605351</td>\n",
       "      <td>36009.025264</td>\n",
       "    </tr>\n",
       "    <tr>\n",
       "      <th>483</th>\n",
       "      <td>2019-04-29</td>\n",
       "      <td>NaN</td>\n",
       "      <td>26872.431160</td>\n",
       "      <td>15784.677459</td>\n",
       "      <td>37954.520590</td>\n",
       "    </tr>\n",
       "  </tbody>\n",
       "</table>\n",
       "<p>90 rows × 5 columns</p>\n",
       "</div>"
      ],
      "text/plain": [
       "            ds   y          yhat    yhat_lower    yhat_upper\n",
       "394 2019-01-30 NaN  14302.749842   1959.034201  25719.236253\n",
       "395 2019-01-31 NaN  15341.627191   3422.416055  25724.475424\n",
       "396 2019-02-01 NaN  14793.399593   4102.796901  25525.150307\n",
       "397 2019-02-02 NaN  15017.351430   3796.609959  25610.867568\n",
       "398 2019-02-03 NaN  13006.231573   2523.363243  23802.768000\n",
       "..         ...  ..           ...           ...           ...\n",
       "479 2019-04-25 NaN  28064.171200  17665.396127  38866.476005\n",
       "480 2019-04-26 NaN  27499.788359  16253.591731  38689.682379\n",
       "481 2019-04-27 NaN  27645.254376  16955.260644  39196.777607\n",
       "482 2019-04-28 NaN  25499.815146  14832.605351  36009.025264\n",
       "483 2019-04-29 NaN  26872.431160  15784.677459  37954.520590\n",
       "\n",
       "[90 rows x 5 columns]"
      ]
     },
     "execution_count": 88,
     "metadata": {},
     "output_type": "execute_result"
    }
   ],
   "source": [
    "forecast['y'] = df_test['y']\n",
    "forecast[['ds', 'y', 'yhat', 'yhat_lower', 'yhat_upper']].iloc[-90:]"
   ]
  },
  {
   "cell_type": "markdown",
   "metadata": {},
   "source": [
    "Now let's do the metric calculations to check the performance of the model."
   ]
  },
  {
   "cell_type": "code",
   "execution_count": 89,
   "metadata": {},
   "outputs": [
    {
     "name": "stdout",
     "output_type": "stream",
     "text": [
      "mse -> 48856075.36357236\n",
      "rmse -> 6989.712108776181\n"
     ]
    }
   ],
   "source": [
    "se = np.square(forecast.loc[:, 'yhat'] - forecast['y'])\n",
    "mse = np.mean(se) #Erro médio quadrado \n",
    "rmse = np.sqrt(mse)\n",
    "\n",
    "print('mse ->', mse)\n",
    "print('rmse ->', rmse)"
   ]
  },
  {
   "cell_type": "markdown",
   "metadata": {},
   "source": [
    "The metrics MSE and RMSE were chosen, where MSE is the Mean Squared Error, which demonstrates the average of the forecast error by raising it to the square and RMSE is the Root Mean Squared Error, which demonstrates the square root of MSE, and returns the error to unit.\n",
    "\n",
    "The MSE and RMSE are excellent statistics for when we want to penalize larger errors and not tolerate errors that large.\n",
    "\n",
    "The interpretation of the MSE and RMSE is the closer to zero, the better the model, however, it is necessary to analyze the context in which it is applied, to verify if the discrepancy of the value is really significant for analysis.\n",
    "\n",
    "In our case both statistics appear high, which can mean a high error with respect to the predicted value.\n",
    "\n",
    "Therefore, one of the solutions to try to lower the RMSE metric is to identify outliers in the data and remove them, as the RMSE squares the errors before calculating the average, and therefore, if there are outliers, the metric will also appear higher. The same happens with MSE, the removal of outliers can already help to lower it."
   ]
  },
  {
   "cell_type": "markdown",
   "metadata": {},
   "source": [
    "According to the MSE and RMSE analysis, the suggestion is to treat the outliers and also the hyperparameters that can help to better calibrate the model.\n",
    "\n",
    "If not successful, Prophet may not be the best model to predict the database. Therefore, it is important to test new models, but first calculate the stationarity and seasonality of the database, using Dickey Fuller tests, in order to choose the model that best fits the data.\n",
    "\n",
    "When the model fit was performed, the log showed that it would be necessary to use the year and day seasonality as True, demonstrating that there may be seasonality in the data. Therefore, perhaps the Triple Exponential Smoothing model (Holt-Winters Method) or even ARIMA can demonstrate better performance for this dataset."
   ]
  },
  {
   "cell_type": "code",
   "execution_count": 93,
   "metadata": {},
   "outputs": [],
   "source": [
    "#TODO: Pipeline"
   ]
  }
 ],
 "metadata": {
  "kernelspec": {
   "display_name": "Python 3.8.12 ('base')",
   "language": "python",
   "name": "python3"
  },
  "language_info": {
   "codemirror_mode": {
    "name": "ipython",
    "version": 3
   },
   "file_extension": ".py",
   "mimetype": "text/x-python",
   "name": "python",
   "nbconvert_exporter": "python",
   "pygments_lexer": "ipython3",
   "version": "3.8.12"
  },
  "vscode": {
   "interpreter": {
    "hash": "5741528fec3b321afe5135d0c77cf5438a2a0be442c5f3205594afaf7d4cee7e"
   }
  }
 },
 "nbformat": 4,
 "nbformat_minor": 4
}
