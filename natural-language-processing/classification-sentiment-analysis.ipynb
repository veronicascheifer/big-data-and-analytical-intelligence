{
  "cells": [
    {
      "cell_type": "markdown",
      "metadata": {
        "id": "jd0xl83ec2Qq"
      },
      "source": [
        "## Classification of texts - Sentiment Analysis"
      ]
    },
    {
      "cell_type": "code",
      "execution_count": 122,
      "metadata": {
        "id": "MtuY_lI4SufL",
        "vscode": {
          "languageId": "python"
        }
      },
      "outputs": [],
      "source": [
        "#Open corpus\n",
        "f = open(\"/content/analise-sentimentos-2000-noticias.txt\", \"r\", encoding=\"utf-8-sig\")\n",
        "lines = f.readlines()\n",
        "\n",
        "corpus_texts = []\n",
        "corpus_labels = []\n",
        "\n",
        "#Loop through 2000 lines\n",
        "for line in lines:\n",
        "\n",
        "  #Separate text and label/category/emotion\n",
        "  item = line.split(\";;\")\n",
        "\n",
        "  corpus_labels.append(item[0])\n",
        "  corpus_texts.append(item[1])"
      ]
    },
    {
      "cell_type": "code",
      "execution_count": 123,
      "metadata": {
        "colab": {
          "base_uri": "https://localhost:8080/"
        },
        "id": "AeR6Rr1wV1oG",
        "outputId": "f2a97bd6-69eb-4c59-e796-a093bcb3ec1b",
        "vscode": {
          "languageId": "python"
        }
      },
      "outputs": [
        {
          "data": {
            "text/plain": [
              "['irã liberta viúva condenada ao apedrejamento, diz comitê internacional. a viúva iraniana sakineh mohammadi-ashtiani, condenada à morte por apedrejamento, foi libertada juntamente com o seu filho e o seu advogado, anunciou nesta quinta-feira (9) o comitê internacional contra apedrejamento, sediado na alemanha.\\n',\n",
              " 'haiti sofre com cólera depois da passagem do furacão sandy. após a passagem do furacão sandy pelo haiti, o país vive as dificuldades da reconstrução, além de problemas causados pela contaminação da bactéria que causa o cólera.\\n',\n",
              " 'mulher acorda e encontra crocodilo de 3 m e 27 ovos no jardim de casa. especialistas capturaram e transferiram animal para local adequado.\\n',\n",
              " 'enchentes causam a morte de 4 pessoas em al: vítimas são mãe, filho, idosa de 100 anos e adolescente. defesa civil da capital já registrou mais de 30 ocorrências.\\n',\n",
              " 'sem detalhes do que será discutido, revisão do plano diretor começa na segunda (17). dez oficinas, 19 audiências públicas e canal interativo serão os meios de participação popular; ippuc pretende enviar plano revisado à câmara até o início de dezembro\\n']"
            ]
          },
          "execution_count": 123,
          "metadata": {},
          "output_type": "execute_result"
        }
      ],
      "source": [
        "#5 first texts\n",
        "corpus_texts[0:5]"
      ]
    },
    {
      "cell_type": "code",
      "execution_count": 124,
      "metadata": {
        "colab": {
          "base_uri": "https://localhost:8080/"
        },
        "id": "SAXpsd00V2vq",
        "outputId": "ee2a09f0-dcd7-4b60-d302-64baf8dd8fc1",
        "vscode": {
          "languageId": "python"
        }
      },
      "outputs": [
        {
          "data": {
            "text/plain": [
              "['alegria', 'tristeza', 'surpresa', 'tristeza', 'neutro']"
            ]
          },
          "execution_count": 124,
          "metadata": {},
          "output_type": "execute_result"
        }
      ],
      "source": [
        "#5 first labels\n",
        "corpus_labels[0:5]"
      ]
    },
    {
      "cell_type": "code",
      "execution_count": 125,
      "metadata": {
        "id": "xMh3t4S-k5iN",
        "vscode": {
          "languageId": "python"
        }
      },
      "outputs": [],
      "source": [
        "from sklearn.model_selection import train_test_split\n",
        "\n",
        "#Sklearn itself has a method to split the database into training and testing\n",
        "#In this case we are using 90% for training and 10% for testing\n",
        "corpus_training, corpus_test, training_labels, test_labels = train_test_split(corpus_texts, corpus_labels, test_size=0.10, random_state=42)"
      ]
    },
    {
      "cell_type": "code",
      "execution_count": 126,
      "metadata": {
        "colab": {
          "base_uri": "https://localhost:8080/"
        },
        "id": "DlOXBwE9l1DQ",
        "outputId": "a15e7ce3-bc2a-490f-9fb1-faacb0a45f08",
        "vscode": {
          "languageId": "python"
        }
      },
      "outputs": [
        {
          "data": {
            "text/plain": [
              "1800"
            ]
          },
          "execution_count": 126,
          "metadata": {},
          "output_type": "execute_result"
        }
      ],
      "source": [
        "len(corpus_training)"
      ]
    },
    {
      "cell_type": "code",
      "execution_count": 127,
      "metadata": {
        "colab": {
          "base_uri": "https://localhost:8080/"
        },
        "id": "PNkXDsCzl3CK",
        "outputId": "66a2b0a6-f6b3-4703-dbfd-4fc4fb1837b6",
        "vscode": {
          "languageId": "python"
        }
      },
      "outputs": [
        {
          "data": {
            "text/plain": [
              "200"
            ]
          },
          "execution_count": 127,
          "metadata": {},
          "output_type": "execute_result"
        }
      ],
      "source": [
        "len(corpus_test)"
      ]
    },
    {
      "cell_type": "code",
      "execution_count": 128,
      "metadata": {
        "colab": {
          "base_uri": "https://localhost:8080/"
        },
        "id": "0k8IhkJhl3F8",
        "outputId": "3046ba1a-8cc8-4326-980c-a3e4e6683018",
        "vscode": {
          "languageId": "python"
        }
      },
      "outputs": [
        {
          "data": {
            "text/plain": [
              "1800"
            ]
          },
          "execution_count": 128,
          "metadata": {},
          "output_type": "execute_result"
        }
      ],
      "source": [
        "len(training_labels)"
      ]
    },
    {
      "cell_type": "code",
      "execution_count": 129,
      "metadata": {
        "colab": {
          "base_uri": "https://localhost:8080/"
        },
        "id": "Z5jSA7_Ql3Jo",
        "outputId": "e554a7f4-d77e-48f5-9057-9fe0611da565",
        "vscode": {
          "languageId": "python"
        }
      },
      "outputs": [
        {
          "data": {
            "text/plain": [
              "200"
            ]
          },
          "execution_count": 129,
          "metadata": {},
          "output_type": "execute_result"
        }
      ],
      "source": [
        "len(test_labels)"
      ]
    },
    {
      "cell_type": "code",
      "execution_count": null,
      "metadata": {
        "vscode": {
          "languageId": "python"
        }
      },
      "outputs": [],
      "source": [
        "#Function to pre-process the texts"
      ]
    },
    {
      "cell_type": "code",
      "execution_count": 130,
      "metadata": {
        "colab": {
          "base_uri": "https://localhost:8080/"
        },
        "id": "A5CAMkykvRUk",
        "outputId": "a447e935-a08f-484d-b735-5d8792ecad79",
        "vscode": {
          "languageId": "python"
        }
      },
      "outputs": [
        {
          "name": "stderr",
          "output_type": "stream",
          "text": [
            "[nltk_data] Downloading package stopwords to /root/nltk_data...\n",
            "[nltk_data]   Package stopwords is already up-to-date!\n",
            "[nltk_data] Downloading package rslp to /root/nltk_data...\n",
            "[nltk_data]   Package rslp is already up-to-date!\n",
            "[nltk_data] Downloading package punkt to /root/nltk_data...\n",
            "[nltk_data]   Package punkt is already up-to-date!\n"
          ]
        }
      ],
      "source": [
        "import nltk\n",
        "from nltk import tokenize\n",
        "nltk.download('stopwords')\n",
        "nltk.download('rslp')\n",
        "nltk.download('punkt')\n",
        "\n",
        "stopwords = nltk.corpus.stopwords.words('portuguese') #Load Portuguese language stopwords available in NLTK\n",
        "stopwords += (',','.','(',')','\"',\"'\",'´','`','!','$','%','&','...','-',':',';','?','``','\\'\\'') #Add symbols\n",
        "stopwords += ('a','e','i','o','u','A','E','I','O','U') #Add vowels\n",
        "\n",
        "stemmer = nltk.stem.RSLPStemmer()\n",
        "\n",
        "def my_preprocessor(text):\n",
        "    \n",
        "    #Normalize to lower case\n",
        "    text=text.lower() \n",
        "    \n",
        "    #Tokenize\n",
        "    words = tokenize.word_tokenize(text, language='portuguese')\n",
        "    #Remove stop-words\n",
        "    words_no_stopwords = [word for word in words if not word in stopwords]\n",
        "    #Apply stemming\n",
        "    stemmed_words=[stemmer.stem(word=word) for word in words_no_stopwords]\n",
        "    return ' '.join(stemmed_words)"
      ]
    },
    {
      "cell_type": "code",
      "execution_count": null,
      "metadata": {
        "vscode": {
          "languageId": "python"
        }
      },
      "outputs": [],
      "source": [
        "#Extract the text attributes (generate the vector representation - bag of words) and create the classification pipeline using the SVM classifier."
      ]
    },
    {
      "cell_type": "code",
      "execution_count": 136,
      "metadata": {
        "id": "20ZDBuVTmxbU",
        "vscode": {
          "languageId": "python"
        }
      },
      "outputs": [],
      "source": [
        "from sklearn.pipeline import Pipeline\n",
        "from sklearn.svm import SVC\n",
        "from sklearn.feature_extraction.text import CountVectorizer\n",
        "\n",
        "#Apply BoW first, then send data to SVM classifier\n",
        "#(WITHOUT removing stop-words and stemming)\n",
        "sent_clf = Pipeline([('vect', CountVectorizer()),('clf', SVC(kernel='linear', C=1))])\n",
        "\n",
        "#After running it once, check the results and compare them after uncommenting the line below where we removed the stop-words and applied stemming\n",
        "#(WITH removal of stop-words and stemming)\n",
        "sent_clf = Pipeline([('vect', CountVectorizer(preprocessor = my_preprocessor)), ('clf', SVC(kernel='linear', C=1))])"
      ]
    },
    {
      "cell_type": "code",
      "execution_count": 137,
      "metadata": {
        "id": "OcUiVr1exebT",
        "vscode": {
          "languageId": "python"
        }
      },
      "outputs": [],
      "source": [
        "#Start training\n",
        "sent_clf = sent_clf.fit(corpus_training, training_labels)"
      ]
    },
    {
      "cell_type": "code",
      "execution_count": 138,
      "metadata": {
        "id": "dNSFAIiYoHdD",
        "vscode": {
          "languageId": "python"
        }
      },
      "outputs": [],
      "source": [
        "#Predict test base\n",
        "predicted_labels = sent_clf.predict(corpus_test)"
      ]
    },
    {
      "cell_type": "code",
      "execution_count": 139,
      "metadata": {
        "colab": {
          "base_uri": "https://localhost:8080/"
        },
        "id": "6FxFWGaBoZ_w",
        "outputId": "6eb16ecf-af5a-47a6-9be8-4a02af648a96",
        "vscode": {
          "languageId": "python"
        }
      },
      "outputs": [
        {
          "name": "stdout",
          "output_type": "stream",
          "text": [
            "              precision    recall  f1-score   support\n",
            "\n",
            "     alegria       0.14      0.11      0.12        19\n",
            "    desgosto       0.55      0.44      0.49        27\n",
            "        medo       0.36      0.44      0.40        18\n",
            "      neutro       0.63      0.75      0.68        51\n",
            "       raiva       0.33      0.29      0.31         7\n",
            "    surpresa       0.48      0.50      0.49        32\n",
            "    tristeza       0.72      0.67      0.70        46\n",
            "\n",
            "    accuracy                           0.55       200\n",
            "   macro avg       0.46      0.46      0.46       200\n",
            "weighted avg       0.54      0.55      0.54       200\n",
            "\n"
          ]
        }
      ],
      "source": [
        "from sklearn.metrics import classification_report\n",
        "\n",
        "#Show full metrics report\n",
        "print(classification_report(test_labels, predicted_labels))"
      ]
    },
    {
      "cell_type": "code",
      "execution_count": 140,
      "metadata": {
        "colab": {
          "base_uri": "https://localhost:8080/",
          "height": 611
        },
        "id": "qRQDI8b9oaFe",
        "outputId": "44b078d4-b39f-4e80-b5db-c694e0924168",
        "vscode": {
          "languageId": "python"
        }
      },
      "outputs": [
        {
          "data": {
            "image/png": "[encoded data removed]",
            "text/plain": [
              "<Figure size 720x720 with 1 Axes>"
            ]
          },
          "metadata": {},
          "output_type": "display_data"
        }
      ],
      "source": [
        "from sklearn.metrics import confusion_matrix\n",
        "\n",
        "#Print the confusion matrix to try to better understand the results\n",
        "mat = confusion_matrix(test_labels, predicted_labels)\n",
        "\n",
        "%matplotlib inline\n",
        "import matplotlib.pyplot as plt\n",
        "import seaborn as sns; sns.set()\n",
        "\n",
        "labels_names = ['alegria', 'desgosto', 'medo', 'neutro', 'raiva', 'surpresa', 'tristeza']\n",
        "\n",
        "fig, ax = plt.subplots(figsize=(10,10)) \n",
        "sns.heatmap(mat.T, square=True, annot=True, fmt='d', cbar=False, xticklabels=labels_names, yticklabels=labels_names )\n",
        "plt.xlabel('True category')\n",
        "plt.ylabel('Predicted category');"
      ]
    },
    {
      "cell_type": "markdown",
      "metadata": {
        "id": "VJGxMMVTz6lJ"
      },
      "source": [
        "> **CONCLUSION**: Although we noticed improvement when pre-processing the text, the results are still regular."
      ]
    },
    {
      "cell_type": "markdown",
      "metadata": {
        "id": "hdC8Pnkc1JsW"
      },
      "source": [
        "####  How can we try to improve results?"
      ]
    },
    {
      "cell_type": "markdown",
      "metadata": {
        "id": "HQPz9NtNi5Hq"
      },
      "source": [
        "#### **Analysis**\n",
        "\n",
        "**1) Reduction of the granularity of feelings**\n",
        "\n",
        "**2) Configuration of attribute extraction and classifier parameters**\n",
        "\n",
        "**3) Add new attribute extraction or pre-processing steps**\n",
        "\n",
        "\n",
        "In the next cells of the notebook are all the new tests performed.\n",
        "\n",
        "The first test was to fix the new notebook, replacing the label \"joy\" with \"positive\", \"anger\", \"fear\", \"disgust\" and \"sadness\" with \"negative\". The \"neutral\" labels remain and all instances labeled \"surprise\" have been dropped from the txt.\n",
        "\n",
        "Also, the new file was loaded and the results were compared.\n",
        "\n",
        "Follow the results of the first one without any changes in the test code:\n",
        "\n",
        "![Unknown1.png](data:image/png;base64,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)\n",
        "\n",
        "\n",
        "    precision     recall    f1-score   support\n",
        "\n",
        "     alegria       0.00      0.00      0.00        19\n",
        "    desgosto       0.44      0.26      0.33        27\n",
        "        medo       0.32      0.39      0.35        18\n",
        "      neutro       0.52      0.73      0.61        51\n",
        "       raiva       0.29      0.29      0.29         7\n",
        "    surpresa       0.42      0.47      0.44        32\n",
        "    tristeza       0.66      0.59      0.62        46\n",
        "    accuracy                           0.48       200\n",
        "   macro avg       0.38      0.39      0.38       200\n",
        "weighted avg       0.45      0.47      0.45       200\n",
        "\n",
        "\n",
        "\n",
        "After finish the first step of the activity and loading the new database, the results improved, as shown below:\n",
        "\n",
        "\n",
        "\n",
        "    precision    recall    f1-score   support\n",
        "\n",
        "    negativo       0.86      0.85      0.85       110\n",
        "      neutro       0.66      0.71      0.69        52\n",
        "    positivo       0.64      0.54      0.58        13\n",
        "    accuracy                           0.78       175\n",
        "   macro avg       0.72      0.70      0.71       175\n",
        "weighted avg       0.78      0.78      0.78       175\n",
        "\n",
        "\n",
        "![Unknown2.png](data:image/png;base64,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)\n",
        "\n",
        "\n",
        "\n",
        "After finish the extraction and add the configuration of the TF-IDF in the new database. The results were even better, demonstrating that the adjustments made to the model were effective:\n",
        "\n",
        "    precision    recall   f1-score   support\n",
        "    negativo       0.87      0.88      0.88       110\n",
        "      neutro       0.68      0.79      0.73        52\n",
        "    positivo       0.75      0.23      0.35        13\n",
        "\n",
        "    accuracy                           0.81       175\n",
        "   macro avg       0.77      0.63      0.65       175\n",
        "weighted avg       0.81      0.81      0.80       175\n",
        "\n",
        "![Unknown3.png](data:image/png;base64,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)\n",
        "\n",
        "\n",
        "In the end, a new classifier was used (The Naive Bayes), that shows the following results:\n",
        "\n",
        "    precision    recall  f1-score   support\n",
        "    negativo       0.58      1.00      0.73       912\n",
        "      neutro       0.00      0.00      0.00       490\n",
        "    positivo       0.00      0.00      0.00       171\n",
        "    accuracy                           0.58      1573\n",
        "   macro avg       0.19      0.33      0.24      1573\n",
        "weighted avg       0.34      0.58      0.43      1573\n",
        "\n",
        "\n",
        "\n",
        "[[912   0   0]\n",
        " [490   0   0]\n",
        " [171   0   0]]\n",
        "\n",
        "\n",
        "The results of Naive Bayes were not as good as those of the last SVM test, showing that so far SVM is the most suitable classifier and that Naive Bayes will need possible adjustments, corrections and tests."
      ]
    },
    {
      "cell_type": "code",
      "execution_count": 142,
      "metadata": {
        "id": "3GHZc_degK2J",
        "vscode": {
          "languageId": "python"
        }
      },
      "outputs": [],
      "source": [
        "#Open corpus\n",
        "f2 = open(\"/content/analise-sentimentos-2000-2.txt\", \"r\", encoding=\"utf-8-sig\")\n",
        "lines2 = f2.readlines()\n",
        "\n",
        "corpus_texts2 = []\n",
        "corpus_labels2 = []\n",
        "\n",
        "#Loop through 2000 lines\n",
        "for line in lines2:\n",
        "\n",
        "  #Separate text and label/category/emotion\n",
        "  item = line.split(\";;\")\n",
        "\n",
        "  corpus_labels2.append(item[0])\n",
        "  corpus_texts2.append(item[1])"
      ]
    },
    {
      "cell_type": "code",
      "execution_count": 143,
      "metadata": {
        "colab": {
          "base_uri": "https://localhost:8080/"
        },
        "id": "pbpz37qGgK_4",
        "outputId": "cfde7423-698f-446b-d753-4dbeba2a8926",
        "vscode": {
          "languageId": "python"
        }
      },
      "outputs": [
        {
          "data": {
            "text/plain": [
              "['irã liberta viúva condenada ao apedrejamento, diz comitê internacional. a viúva iraniana sakineh mohammadi-ashtiani, condenada à morte por apedrejamento, foi libertada juntamente com o seu filho e o seu advogado, anunciou nesta quinta-feira (9) o comitê internacional contra apedrejamento, sediado na alemanha.\\n',\n",
              " 'haiti sofre com cólera depois da passagem do furacão sandy. após a passagem do furacão sandy pelo haiti, o país vive as dificuldades da reconstrução, além de problemas causados pela contaminação da bactéria que causa o cólera.\\n',\n",
              " 'enchentes causam a morte de 4 pessoas em al: vítimas são mãe, filho, idosa de 100 anos e adolescente. defesa civil da capital já registrou mais de 30 ocorrências.\\n',\n",
              " 'sem detalhes do que será discutido, revisão do plano diretor começa na segunda (17). dez oficinas, 19 audiências públicas e canal interativo serão os meios de participação popular; ippuc pretende enviar plano revisado à câmara até o início de dezembro\\n',\n",
              " 'chávez apresenta neto de allende como companheiro da filha: pablo sepúlveda allende é médico e neto de salvador allende. maría, de 29 anos, é a segunda filha do primeiro casamento de chávez.\\n']"
            ]
          },
          "execution_count": 143,
          "metadata": {},
          "output_type": "execute_result"
        }
      ],
      "source": [
        "#5 first texts\n",
        "corpus_texts2[0:5]"
      ]
    },
    {
      "cell_type": "code",
      "execution_count": 144,
      "metadata": {
        "colab": {
          "base_uri": "https://localhost:8080/"
        },
        "id": "zAF6rmHKgLIp",
        "outputId": "1ffe61cb-0625-43b4-e198-74428f80d734",
        "vscode": {
          "languageId": "python"
        }
      },
      "outputs": [
        {
          "data": {
            "text/plain": [
              "['positivo', 'negativo', 'negativo', 'neutro', 'neutro']"
            ]
          },
          "execution_count": 144,
          "metadata": {},
          "output_type": "execute_result"
        }
      ],
      "source": [
        "#5 first labels\n",
        "corpus_labels2[0:5]"
      ]
    },
    {
      "cell_type": "code",
      "execution_count": 145,
      "metadata": {
        "id": "ouFGTMYZgLMO",
        "vscode": {
          "languageId": "python"
        }
      },
      "outputs": [],
      "source": [
        "from sklearn.model_selection import train_test_split\n",
        "\n",
        "#Sklearn itself has a method to split the database into training and testing\n",
        "#In this case we are using 90% for training and 10% for testing\n",
        "\n",
        "corpus_training2, corpus_test2, training_labels2, test_labels2 = train_test_split(corpus_texts2, corpus_labels2, test_size=0.10, random_state=42)"
      ]
    },
    {
      "cell_type": "code",
      "execution_count": 146,
      "metadata": {
        "colab": {
          "base_uri": "https://localhost:8080/"
        },
        "id": "k0zkLz20gLRD",
        "outputId": "aac849ec-5736-4b33-c1f5-5c6a573c24aa",
        "vscode": {
          "languageId": "python"
        }
      },
      "outputs": [
        {
          "data": {
            "text/plain": [
              "1573"
            ]
          },
          "execution_count": 146,
          "metadata": {},
          "output_type": "execute_result"
        }
      ],
      "source": [
        "len(corpus_training2)"
      ]
    },
    {
      "cell_type": "code",
      "execution_count": 147,
      "metadata": {
        "colab": {
          "base_uri": "https://localhost:8080/"
        },
        "id": "XiMxmVWDgLU5",
        "outputId": "d35f7935-ee74-47fe-89b9-b75be4d3794e",
        "vscode": {
          "languageId": "python"
        }
      },
      "outputs": [
        {
          "data": {
            "text/plain": [
              "175"
            ]
          },
          "execution_count": 147,
          "metadata": {},
          "output_type": "execute_result"
        }
      ],
      "source": [
        "len(corpus_test2)"
      ]
    },
    {
      "cell_type": "code",
      "execution_count": 148,
      "metadata": {
        "colab": {
          "base_uri": "https://localhost:8080/"
        },
        "id": "CtZU34zmgLZE",
        "outputId": "894df20e-8d7b-45ec-df20-37a43a8e48a5",
        "vscode": {
          "languageId": "python"
        }
      },
      "outputs": [
        {
          "data": {
            "text/plain": [
              "1573"
            ]
          },
          "execution_count": 148,
          "metadata": {},
          "output_type": "execute_result"
        }
      ],
      "source": [
        "len(training_labels2)"
      ]
    },
    {
      "cell_type": "code",
      "execution_count": 149,
      "metadata": {
        "colab": {
          "base_uri": "https://localhost:8080/"
        },
        "id": "WnFh8IBtgLdf",
        "outputId": "776a87ab-c059-4472-de95-270aa24de65d",
        "vscode": {
          "languageId": "python"
        }
      },
      "outputs": [
        {
          "data": {
            "text/plain": [
              "175"
            ]
          },
          "execution_count": 149,
          "metadata": {},
          "output_type": "execute_result"
        }
      ],
      "source": [
        "len(test_labels2)"
      ]
    },
    {
      "cell_type": "code",
      "execution_count": 150,
      "metadata": {
        "colab": {
          "base_uri": "https://localhost:8080/"
        },
        "id": "Inlm2aR2gLhz",
        "outputId": "41867065-59df-4867-f35a-ab0efe67c5f5",
        "vscode": {
          "languageId": "python"
        }
      },
      "outputs": [
        {
          "name": "stderr",
          "output_type": "stream",
          "text": [
            "[nltk_data] Downloading package stopwords to /root/nltk_data...\n",
            "[nltk_data]   Package stopwords is already up-to-date!\n",
            "[nltk_data] Downloading package rslp to /root/nltk_data...\n",
            "[nltk_data]   Package rslp is already up-to-date!\n",
            "[nltk_data] Downloading package punkt to /root/nltk_data...\n",
            "[nltk_data]   Package punkt is already up-to-date!\n"
          ]
        }
      ],
      "source": [
        "import nltk\n",
        "from nltk import tokenize\n",
        "nltk.download('stopwords')\n",
        "nltk.download('rslp')\n",
        "nltk.download('punkt')\n",
        "\n",
        "stopwords = nltk.corpus.stopwords.words('portuguese') #Load Portuguese language stopwords available in NLTK\n",
        "stopwords += (',','.','(',')','\"',\"'\",'´','`','!','$','%','&','...','-',':',';','?','``','\\'\\'') #Add symbols\n",
        "stopwords += ('a','e','i','o','u','A','E','I','O','U') #Add vowels\n",
        "\n",
        "stemmer = nltk.stem.RSLPStemmer()\n",
        "\n",
        "def my_preprocessor(text):\n",
        "    \n",
        "    #Normalize to lower case\n",
        "    text=text.lower() \n",
        "    \n",
        "    #Tokenize\n",
        "    words = tokenize.word_tokenize(text, language='portuguese')\n",
        "    #Remove stop-words\n",
        "    words_no_stopwords = [word for word in words if not word in stopwords]\n",
        "    #Apply stemming\n",
        "    stemmed_words=[stemmer.stem(word=word) for word in words_no_stopwords]\n",
        "    return ' '.join(stemmed_words)"
      ]
    },
    {
      "cell_type": "code",
      "execution_count": 151,
      "metadata": {
        "id": "6OBY4yJzgLo-",
        "vscode": {
          "languageId": "python"
        }
      },
      "outputs": [],
      "source": [
        "from sklearn.pipeline import Pipeline\n",
        "from sklearn.svm import SVC\n",
        "from sklearn.feature_extraction.text import CountVectorizer\n",
        "from sklearn.feature_extraction.text import TfidfTransformer\n",
        "\n",
        "# Apply BoW first, then send data to SVM classifier\n",
        "#(WITHOUT removing stop-words and stemming)\n",
        "sent_clf = Pipeline([('vect', CountVectorizer()),('clf', SVC(kernel='linear', C=1))])\n",
        "\n",
        "#After running it once, check the results and compare them after uncommenting the line below where we removed the stop-words and applied stemming\n",
        "#(WITH removal of stop-words and stemming)\n",
        "sent_clf = Pipeline([('vect', CountVectorizer(preprocessor = my_preprocessor)), ('tfidf', TfidfTransformer()), ('clf', SVC(kernel='linear', C=1))])"
      ]
    },
    {
      "cell_type": "code",
      "execution_count": 152,
      "metadata": {
        "id": "UZIFMzdwgL09",
        "vscode": {
          "languageId": "python"
        }
      },
      "outputs": [],
      "source": [
        "#Test2\n",
        " \n",
        "#Start training\n",
        "sent_clf = sent_clf.fit(corpus_training2, training_labels2)"
      ]
    },
    {
      "cell_type": "code",
      "execution_count": 153,
      "metadata": {
        "id": "snDIItSdgL46",
        "vscode": {
          "languageId": "python"
        }
      },
      "outputs": [],
      "source": [
        "#Test2\n",
        "\n",
        "#Predict test base\n",
        "predicted_labels2 = sent_clf.predict(corpus_test2)"
      ]
    },
    {
      "cell_type": "code",
      "execution_count": 154,
      "metadata": {
        "colab": {
          "base_uri": "https://localhost:8080/"
        },
        "id": "JojeJkMJgL_E",
        "outputId": "cd050fbd-e27a-4ed4-9e99-7728ec6ca971",
        "vscode": {
          "languageId": "python"
        }
      },
      "outputs": [
        {
          "name": "stdout",
          "output_type": "stream",
          "text": [
            "              precision    recall  f1-score   support\n",
            "\n",
            "    negativo       0.87      0.88      0.88       110\n",
            "      neutro       0.68      0.79      0.73        52\n",
            "    positivo       0.75      0.23      0.35        13\n",
            "\n",
            "    accuracy                           0.81       175\n",
            "   macro avg       0.77      0.63      0.65       175\n",
            "weighted avg       0.81      0.81      0.80       175\n",
            "\n"
          ]
        }
      ],
      "source": [
        "#Test 2\n",
        "\n",
        "from sklearn.metrics import classification_report\n",
        "\n",
        "#Show full evaluation report\n",
        "print(classification_report(test_labels2, predicted_labels2))"
      ]
    },
    {
      "cell_type": "code",
      "execution_count": 155,
      "metadata": {
        "colab": {
          "base_uri": "https://localhost:8080/",
          "height": 611
        },
        "id": "QdkEhbJ7hFvr",
        "outputId": "699fe0c0-578d-4db6-f148-362908ab87ab",
        "vscode": {
          "languageId": "python"
        }
      },
      "outputs": [
        {
          "data": {
            "image/png": "[encoded data removed]",
            "text/plain": [
              "<Figure size 720x720 with 1 Axes>"
            ]
          },
          "metadata": {},
          "output_type": "display_data"
        }
      ],
      "source": [
        "from sklearn.metrics import confusion_matrix\n",
        "\n",
        "#We can print the confusion matrix to try to better understand the results\n",
        "mat2 = confusion_matrix(test_labels2, predicted_labels2)\n",
        "\n",
        "%matplotlib inline\n",
        "import matplotlib.pyplot as plt\n",
        "import seaborn as sns; sns.set()\n",
        "\n",
        "labels_names2 = ['positivo', 'negativo', 'neutro']\n",
        "\n",
        "fig, ax = plt.subplots(figsize=(10,10)) \n",
        "sns.heatmap(mat2.T, square=True, annot=True, fmt='d', cbar=False, xticklabels=labels_names2, yticklabels=labels_names2 )\n",
        "plt.xlabel('Categoria verdadeira')\n",
        "plt.ylabel('Categoria predita');"
      ]
    },
    {
      "cell_type": "markdown",
      "metadata": {
        "id": "kNIb7KgRJUG4"
      },
      "source": [
        "**4) Using another text classifier**\n",
        "\n",
        "#### Classifier: ***Naive Bayes***"
      ]
    },
    {
      "cell_type": "code",
      "execution_count": 160,
      "metadata": {
        "colab": {
          "base_uri": "https://localhost:8080/"
        },
        "id": "8rEQJN8AJhRk",
        "outputId": "8fdcde9c-0a5e-492a-9246-ebade097cff8",
        "vscode": {
          "languageId": "python"
        }
      },
      "outputs": [
        {
          "data": {
            "text/plain": [
              "(1573, 3)"
            ]
          },
          "execution_count": 160,
          "metadata": {},
          "output_type": "execute_result"
        }
      ],
      "source": [
        "from sklearn.feature_extraction.text import CountVectorizer\n",
        "\n",
        "bow = CountVectorizer()\n",
        "X_train_bow = bow.fit_transform(training_labels2)\n",
        "X_train_bow.shape"
      ]
    },
    {
      "cell_type": "code",
      "execution_count": 161,
      "metadata": {
        "colab": {
          "base_uri": "https://localhost:8080/"
        },
        "id": "mFxbf2MfJhce",
        "outputId": "6bcdb84b-19eb-40be-b563-0454574e7550",
        "vscode": {
          "languageId": "python"
        }
      },
      "outputs": [
        {
          "name": "stderr",
          "output_type": "stream",
          "text": [
            "/usr/local/lib/python3.7/dist-packages/sklearn/utils/deprecation.py:87: FutureWarning: Function get_feature_names is deprecated; get_feature_names is deprecated in 1.0 and will be removed in 1.2. Please use get_feature_names_out instead.\n",
            "  warnings.warn(msg, category=FutureWarning)\n"
          ]
        },
        {
          "data": {
            "text/plain": [
              "['negativo', 'neutro', 'positivo']"
            ]
          },
          "execution_count": 161,
          "metadata": {},
          "output_type": "execute_result"
        }
      ],
      "source": [
        "bow.get_feature_names()[0:5]"
      ]
    },
    {
      "cell_type": "code",
      "execution_count": 162,
      "metadata": {
        "colab": {
          "base_uri": "https://localhost:8080/"
        },
        "id": "BBrsZEegJhuD",
        "outputId": "e3f23348-c6da-4d06-be5e-4017e0dd32a1",
        "vscode": {
          "languageId": "python"
        }
      },
      "outputs": [
        {
          "data": {
            "text/plain": [
              "(1573, 3)"
            ]
          },
          "execution_count": 162,
          "metadata": {},
          "output_type": "execute_result"
        }
      ],
      "source": [
        "from sklearn.feature_extraction.text import TfidfTransformer\n",
        "\n",
        "tfidf = TfidfTransformer()\n",
        "X_train_tfidf = tfidf.fit_transform(X_train_bow)\n",
        "X_train_tfidf.shape"
      ]
    },
    {
      "cell_type": "code",
      "execution_count": 163,
      "metadata": {
        "id": "SsfV84PmJhxj",
        "vscode": {
          "languageId": "python"
        }
      },
      "outputs": [],
      "source": [
        "from sklearn.naive_bayes import MultinomialNB\n",
        "\n",
        "clf = MultinomialNB().fit(X_train_tfidf, training_labels2)"
      ]
    },
    {
      "cell_type": "code",
      "execution_count": 164,
      "metadata": {
        "id": "gmFVmxphJh1j",
        "vscode": {
          "languageId": "python"
        }
      },
      "outputs": [],
      "source": [
        "from sklearn.pipeline import Pipeline\n",
        "\n",
        "text_clf = Pipeline([('vect', CountVectorizer()), ('tfidf', TfidfTransformer()), ('clf', MultinomialNB())])\n",
        "\n",
        "text_clf = text_clf.fit(corpus_training2, training_labels2)"
      ]
    },
    {
      "cell_type": "code",
      "execution_count": 165,
      "metadata": {
        "colab": {
          "base_uri": "https://localhost:8080/"
        },
        "id": "iOOBz88IJh7P",
        "outputId": "c00c87a9-b37a-4b6a-b3af-c0025763089a",
        "vscode": {
          "languageId": "python"
        }
      },
      "outputs": [
        {
          "data": {
            "text/plain": [
              "1573"
            ]
          },
          "execution_count": 165,
          "metadata": {},
          "output_type": "execute_result"
        }
      ],
      "source": [
        "corpus_test = corpus_training2\n",
        "\n",
        "len(corpus_test)"
      ]
    },
    {
      "cell_type": "code",
      "execution_count": 166,
      "metadata": {
        "colab": {
          "base_uri": "https://localhost:8080/"
        },
        "id": "1N3Tt4jtMnc6",
        "outputId": "8ab8c26d-7349-43ff-ba65-39a57c9e2d1f",
        "vscode": {
          "languageId": "python"
        }
      },
      "outputs": [
        {
          "data": {
            "text/plain": [
              "1573"
            ]
          },
          "execution_count": 166,
          "metadata": {},
          "output_type": "execute_result"
        }
      ],
      "source": [
        "test_labels = training_labels2\n",
        "\n",
        "len(test_labels)"
      ]
    },
    {
      "cell_type": "code",
      "execution_count": 167,
      "metadata": {
        "id": "uXd8sJQsMnuk",
        "vscode": {
          "languageId": "python"
        }
      },
      "outputs": [],
      "source": [
        "predicted = text_clf.predict(test_labels)"
      ]
    },
    {
      "cell_type": "code",
      "execution_count": 168,
      "metadata": {
        "colab": {
          "base_uri": "https://localhost:8080/"
        },
        "id": "6PRr1i2RM3hH",
        "outputId": "b445054d-5062-431c-9bfb-d9b91ff2a58c",
        "vscode": {
          "languageId": "python"
        }
      },
      "outputs": [
        {
          "name": "stdout",
          "output_type": "stream",
          "text": [
            "Acurácia:  0.5797838525111252\n"
          ]
        }
      ],
      "source": [
        "from sklearn.metrics import accuracy_score\n",
        "\n",
        "print(\"Acurácia: \",accuracy_score(predicted, test_labels))"
      ]
    },
    {
      "cell_type": "code",
      "execution_count": 169,
      "metadata": {
        "colab": {
          "base_uri": "https://localhost:8080/"
        },
        "id": "-moHWX5sNAMp",
        "outputId": "cc8ba42c-0822-489e-a7cb-644743ef7a1d",
        "vscode": {
          "languageId": "python"
        }
      },
      "outputs": [
        {
          "name": "stdout",
          "output_type": "stream",
          "text": [
            "              precision    recall  f1-score   support\n",
            "\n",
            "    negativo       0.58      1.00      0.73       912\n",
            "      neutro       0.00      0.00      0.00       490\n",
            "    positivo       0.00      0.00      0.00       171\n",
            "\n",
            "    accuracy                           0.58      1573\n",
            "   macro avg       0.19      0.33      0.24      1573\n",
            "weighted avg       0.34      0.58      0.43      1573\n",
            "\n"
          ]
        },
        {
          "name": "stderr",
          "output_type": "stream",
          "text": [
            "/usr/local/lib/python3.7/dist-packages/sklearn/metrics/_classification.py:1318: UndefinedMetricWarning: Precision and F-score are ill-defined and being set to 0.0 in labels with no predicted samples. Use `zero_division` parameter to control this behavior.\n",
            "  _warn_prf(average, modifier, msg_start, len(result))\n",
            "/usr/local/lib/python3.7/dist-packages/sklearn/metrics/_classification.py:1318: UndefinedMetricWarning: Precision and F-score are ill-defined and being set to 0.0 in labels with no predicted samples. Use `zero_division` parameter to control this behavior.\n",
            "  _warn_prf(average, modifier, msg_start, len(result))\n",
            "/usr/local/lib/python3.7/dist-packages/sklearn/metrics/_classification.py:1318: UndefinedMetricWarning: Precision and F-score are ill-defined and being set to 0.0 in labels with no predicted samples. Use `zero_division` parameter to control this behavior.\n",
            "  _warn_prf(average, modifier, msg_start, len(result))\n"
          ]
        }
      ],
      "source": [
        "from sklearn.metrics import classification_report\n",
        "\n",
        "print(classification_report(test_labels, predicted))"
      ]
    },
    {
      "cell_type": "code",
      "execution_count": 170,
      "metadata": {
        "colab": {
          "base_uri": "https://localhost:8080/"
        },
        "id": "cxL9QZChNsT2",
        "outputId": "84cbb588-4c9c-4807-af1a-403358eabbbe",
        "vscode": {
          "languageId": "python"
        }
      },
      "outputs": [
        {
          "name": "stdout",
          "output_type": "stream",
          "text": [
            "[[912   0   0]\n",
            " [490   0   0]\n",
            " [171   0   0]]\n"
          ]
        }
      ],
      "source": [
        "from sklearn.metrics import confusion_matrix\n",
        "\n",
        "mat = confusion_matrix(test_labels, predicted)\n",
        "\n",
        "print(mat)"
      ]
    }
  ],
  "metadata": {
    "colab": {
      "collapsed_sections": [],
      "provenance": []
    },
    "kernelspec": {
      "display_name": "Python 3",
      "name": "python3"
    }
  },
  "nbformat": 4,
  "nbformat_minor": 0
}
